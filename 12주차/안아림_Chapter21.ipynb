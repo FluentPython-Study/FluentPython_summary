{
 "cells": [
  {
   "cell_type": "markdown",
   "metadata": {},
   "source": [
    "# 챕터 21: 클래스 메타프로그래밍\n",
    "\n",
    "## 21.1 클래스 팩토리"
   ]
  },
  {
   "cell_type": "code",
   "execution_count": 1,
   "metadata": {},
   "outputs": [],
   "source": [
    "class Dog:\n",
    "    def __init__(self, name, weight, owner):\n",
    "        self.name = name\n",
    "        self.weight = weight\n",
    "        self.owner = owner"
   ]
  },
  {
   "cell_type": "code",
   "execution_count": 2,
   "metadata": {},
   "outputs": [
    {
     "data": {
      "text/plain": [
       "<__main__.Dog at 0x7fdeccbf8850>"
      ]
     },
     "execution_count": 2,
     "metadata": {},
     "output_type": "execute_result"
    }
   ],
   "source": [
    "rex = Dog('Rex', 30, 'Bob')\n",
    "rex"
   ]
  },
  {
   "cell_type": "code",
   "execution_count": null,
   "metadata": {},
   "outputs": [],
   "source": [
    "# 예제 21-2: factories.py: 간단한 클래스 팩토리\n",
    "def record_factory(cls_name, field_names):\n",
    "    try:\n",
    "        field_names = field_names.replace(',', ' ').split()\n",
    "    except AttributeError: #replace() or split()을 사용할 수 없다.\n",
    "        pass\n",
    "    field_names = tuple(field_names)\n",
    "    \n",
    "    def __init__(self, *args, **kwargs):\n",
    "        attrs = dict(zip(self.__slots__, args))\n",
    "        attrs.update(kwargs)\n",
    "        for name, value in attrs.items():\n",
    "            setattr(self, name, value)\n",
    "            \n",
    "    def __iter__(self):\n",
    "        for name in self.__slots__:\n",
    "            yield getattr(self, name)\n",
    "            \n",
    "    def __repr__(self):\n",
    "        values = ','.join('{}={!r}'.format(*i) for i in zip(self.__slots__, self))\n",
    "        return '{}({})'.format(self.__class__.__name__, values)\n",
    "    \n",
    "    cls_attrs = dict(__slots__ = field_names,\n",
    "                    __init__ = __init__,\n",
    "                    __iter__ = __iter__,\n",
    "                    __repr__ = __repr__)\n",
    "    \n",
    "    return type(cls_name, (object,), cls_attrs)"
   ]
  },
  {
   "cell_type": "markdown",
   "metadata": {},
   "source": [
    "## 21.2 디스크립터를 커스터마이즈하기 위한 클래스 데커레이터"
   ]
  },
  {
   "cell_type": "code",
   "execution_count": 3,
   "metadata": {},
   "outputs": [
    {
     "ename": "ModuleNotFoundError",
     "evalue": "No module named 'model_v6'",
     "output_type": "error",
     "traceback": [
      "\u001b[0;31m---------------------------------------------------------------------------\u001b[0m",
      "\u001b[0;31mModuleNotFoundError\u001b[0m                       Traceback (most recent call last)",
      "\u001b[0;32m<ipython-input-3-1fe3102aef61>\u001b[0m in \u001b[0;36m<module>\u001b[0;34m\u001b[0m\n\u001b[1;32m      1\u001b[0m \u001b[0;31m# 예제 21-3: bulkfood_v6.py: Quantity와 NonBlank 디스크립터를 사용하는 LineItern 클래스\u001b[0m\u001b[0;34m\u001b[0m\u001b[0;34m\u001b[0m\u001b[0;34m\u001b[0m\u001b[0m\n\u001b[0;32m----> 2\u001b[0;31m \u001b[0;32mimport\u001b[0m \u001b[0mmodel_v6\u001b[0m \u001b[0;32mas\u001b[0m \u001b[0mmodel\u001b[0m\u001b[0;34m\u001b[0m\u001b[0;34m\u001b[0m\u001b[0m\n\u001b[0m\u001b[1;32m      3\u001b[0m \u001b[0;34m\u001b[0m\u001b[0m\n\u001b[1;32m      4\u001b[0m \u001b[0;34m@\u001b[0m\u001b[0mmodel\u001b[0m\u001b[0;34m.\u001b[0m\u001b[0mentity\u001b[0m\u001b[0;34m\u001b[0m\u001b[0;34m\u001b[0m\u001b[0m\n\u001b[1;32m      5\u001b[0m \u001b[0;32mclass\u001b[0m \u001b[0mLineItem\u001b[0m\u001b[0;34m:\u001b[0m\u001b[0;34m\u001b[0m\u001b[0;34m\u001b[0m\u001b[0m\n",
      "\u001b[0;31mModuleNotFoundError\u001b[0m: No module named 'model_v6'"
     ]
    }
   ],
   "source": [
    "# 예제 21-3: bulkfood_v6.py: Quantity와 NonBlank 디스크립터를 사용하는 LineItern 클래스\n",
    "import model_v6 as model\n",
    "\n",
    "@model.entity\n",
    "class LineItem:\n",
    "    description = model.NonBlank()\n",
    "    weight = model.Quantity()\n",
    "    price = model.Quantity()\n",
    "    \n",
    "    def __init__(self, description, weight, price):\n",
    "        self.description = description\n",
    "        self.weight = weight\n",
    "        self.price = price\n",
    "        \n",
    "    def subtotal(self):\n",
    "        return self.weight * self.price"
   ]
  },
  {
   "cell_type": "code",
   "execution_count": null,
   "metadata": {},
   "outputs": [],
   "source": [
    "def entity(cls):\n",
    "    for key, attr in cls.__dict__.items():\n",
    "        if isinstance(attr, Validated):\n",
    "            type_name = type(attr).__name__\n",
    "            attr.storage_name = '_{}#{}'.format(type_name, key)\n",
    "    return cls"
   ]
  },
  {
   "cell_type": "markdown",
   "metadata": {},
   "source": [
    "## 임포트 타임과 런타임\n",
    "\n",
    "### 코드 평가 시점 연습문제\n",
    "\n",
    "* 시나리오#1\n",
    "    * 파이썬 콘솔에서 evaltime.py 모듈을 임포트한다.\n",
    "    * import evaltime\n",
    "* 시나리오#2\n",
    "    * 명령행에서 evaltime.py 모듈을 실행한다."
   ]
  },
  {
   "cell_type": "code",
   "execution_count": null,
   "metadata": {},
   "outputs": [],
   "source": [
    "# 예제 21 - 6: evaltime.py: 출력에 나타날 순서대로 번호가 붙은 <[N]> 표시 써내려가기\n",
    "from evalsupport import deco_alpha\n",
    "\n",
    "print('<[1]> evaltime module start')\n",
    "\n",
    "class Classone():\n",
    "    print('<[2]> ClassOne body')\n",
    "    \n",
    "    def __init__(self):\n",
    "        print('<[3]> ClassOne.__init__')\n",
    "        \n",
    "    def __del__(self):\n",
    "        print('<[4]> ClassOne.__del__')\n",
    "        \n",
    "    def method_x(self):\n",
    "        print('<[5]> ClassOne.method_x')\n",
    "        \n",
    "    class ClassTwo(object):\n",
    "        print('<[6]> ClassTwo body')\n",
    "        \n",
    "        \n",
    "@deco_alpha\n",
    "class ClassThree():\n",
    "    print('<[7]> ClassThree body')\n",
    "    \n",
    "    def method_y(self):\n",
    "        print('<[8]> ClasssThree.method_y')\n",
    "        \n",
    "class ClassFour(ClassThree):\n",
    "    print('<[9]> ClassFour body')\n",
    "    \n",
    "    def method_y(self):\n",
    "        print('<[10]> ClassFour.method_y')\n",
    "        \n",
    "if __name__ == '__main__':\n",
    "    print('<[11]> ClassOne tests', 30 * '.')\n",
    "    one = ClassOne()\n",
    "    one.method_x()\n",
    "    print('<[12]> ClassThree tests', 30 * '.')\n",
    "    three = ClassThree()\n",
    "    threee.method_y()\n",
    "    print('<[13]> ClassFour tests', 30 * '.')\n",
    "    four = ClassFour()\n",
    "    four.mehod_y\n",
    "    \n",
    "print('<[14]> evaltime module end')"
   ]
  },
  {
   "cell_type": "code",
   "execution_count": null,
   "metadata": {},
   "outputs": [],
   "source": [
    "# 예제21-7: evalsupport.py: evaltime.py에 의해 임포트될 모듈\n",
    "print('<[100]> evalsupport module start')\n",
    "\n",
    "def deco_alpha(cls):\n",
    "    print('<[200]> deco_alpha')\n",
    "    \n",
    "    def inner_1(self):\n",
    "        print('<[300]> deco_alpha:inner_1')\n",
    "        \n",
    "    cls.method_y = inner_1\n",
    "    return cls\n",
    "\n",
    "class MetaAlpha(type):\n",
    "    print('<[400]> MetaAleph body')\n",
    "    \n",
    "    def __init__(cls, name, bases, dic):\n",
    "        print('<[500]> MetaAlph.__init__:inner_2')\n",
    "    cls.method_z = inner_2\n",
    "    \n",
    "print('<[700]> evalsuppoer module end')"
   ]
  },
  {
   "cell_type": "markdown",
   "metadata": {},
   "source": [
    "## 21.4 메타클래스 기본 지식"
   ]
  },
  {
   "cell_type": "code",
   "execution_count": 5,
   "metadata": {},
   "outputs": [
    {
     "name": "stderr",
     "output_type": "stream",
     "text": [
      "/Users/ahrimahn/opt/anaconda3/lib/python3.7/site-packages/ipykernel_launcher.py:2: DeprecationWarning: Using or importing the ABCs from 'collections' instead of from 'collections.abc' is deprecated, and in 3.8 it will stop working\n",
      "  \n"
     ]
    },
    {
     "data": {
      "text/plain": [
       "abc.ABCMeta"
      ]
     },
     "execution_count": 5,
     "metadata": {},
     "output_type": "execute_result"
    }
   ],
   "source": [
    "import collections\n",
    "collections.Iterable.__class__"
   ]
  },
  {
   "cell_type": "code",
   "execution_count": 6,
   "metadata": {},
   "outputs": [
    {
     "data": {
      "text/plain": [
       "type"
      ]
     },
     "execution_count": 6,
     "metadata": {},
     "output_type": "execute_result"
    }
   ],
   "source": [
    "import abc\n",
    "abc.ABCMeta.__class__"
   ]
  },
  {
   "cell_type": "code",
   "execution_count": 7,
   "metadata": {},
   "outputs": [
    {
     "data": {
      "text/plain": [
       "(abc.ABCMeta, type, object)"
      ]
     },
     "execution_count": 7,
     "metadata": {},
     "output_type": "execute_result"
    }
   ],
   "source": [
    "abc.ABCMeta.__mro__"
   ]
  },
  {
   "cell_type": "code",
   "execution_count": null,
   "metadata": {},
   "outputs": [],
   "source": [
    "# 예제 21-10: evaltime_meta.py: MetaAleph 메타클래스의 객체인 ClassFive\n",
    "from evalsupport import deco_alpha\n",
    "from evalsupport import MetaAleph\n",
    "\n",
    "print('<[1]> evaltime_meta module start')\n",
    "\n",
    "@deco_alpha\n",
    "class ClassThree():\n",
    "    print('<[2]> ClassThree body')\n",
    "    \n",
    "    def method_y(self):\n",
    "        print('<[3]> ClassThree.method_y')\n",
    "        \n",
    "class ClassFour(ClassThree):\n",
    "    print('<[4]> ClassFour body')\n",
    "    \n",
    "    def method_y(self):\n",
    "        print('<[5]> ClassFour.method_y')\n",
    "        \n",
    "class ClassFive(metaclass=MetaAleph):\n",
    "    print('<[6]> Class Five.method_y')\n",
    "    \n",
    "    def __init__(self):\n",
    "        print('<[7]> ClassFive.__init__')\n",
    "        \n",
    "    def method_z(self):\n",
    "        print('<[8]> ClassFive.method_z')\n",
    "        \n",
    "class ClassSix(ClassFive):\n",
    "    print('<[9]> ClassSix body')\n",
    "    \n",
    "    def method_z(self):\n",
    "        print('<[10]> ClassSix.method_z')\n",
    "        \n",
    "if __name__ == '__main__':\n",
    "    print('<[11]> ClassThree tests', 30 * '.')\n",
    "    three = ClassThree()\n",
    "    three.method_y()\n",
    "    print('<[12]> ClassFour tests', 30 * '.')\n",
    "    four = ClassFour()\n",
    "    four.method_y()\n",
    "    print('<[13]> ClassFive tests', 30 * '.')\n",
    "    five = ClassFive()\n",
    "    five.method_z()\n",
    "    print('<[14]> ClassSix tests', 30 * '.')\n",
    "    six = ClassSix()\n",
    "    six.method_z\n",
    "    \n",
    "print('<[15]> evaltime_meta module end')"
   ]
  },
  {
   "cell_type": "markdown",
   "metadata": {},
   "source": [
    "* 시나리오#3\n",
    "    * 파이썬 콘솔에서 evaltime_meta.py 모듈을 임포트한다.\n",
    "* 시나리오 #4\n",
    "    * 명령행에서 evaltime_meta.py 모듈을 실행한다."
   ]
  },
  {
   "cell_type": "markdown",
   "metadata": {},
   "source": [
    "* self\n",
    "    * 초기화하고 있는 클래스 객체다.\n",
    "* name, bases, dic\n",
    "    * 클래스 생성하기 위해 type에 전달되는 인수와 동일한 인수다."
   ]
  },
  {
   "cell_type": "code",
   "execution_count": null,
   "metadata": {},
   "outputs": [],
   "source": [
    "# 예제 21-12: evalsupport.py: [예제 21-7]의 MetaAleph 메타클래스의 정의\n",
    "class MetaAleph(type):\n",
    "    print('<[400]> MetaAleph body')\n",
    "    \n",
    "    def __init__(cls, name, bases, dic):\n",
    "        print('<[500]> MetaAleph.__init__')\n",
    "        \n",
    "        def inner_2(self):\n",
    "            print('<[600]> MetaAleph.__init__:inner_2')\n",
    "            \n",
    "        cls.method_z = inner_2"
   ]
  },
  {
   "cell_type": "markdown",
   "metadata": {},
   "source": [
    "## 21.5 디스크립터를 커스터마이즈하기 위한 메타클래스"
   ]
  },
  {
   "cell_type": "code",
   "execution_count": null,
   "metadata": {},
   "outputs": [],
   "source": [
    "# 예제 21-14: bulkfood_v7.py: 메타클래스가 받쳐주면 model.Entity에서 상속받는 것으로 충분하다.\n",
    "import model_v7 as model\n",
    "\n",
    "class LineItem(model.Entity):\n",
    "    description = model.NonBlank()\n",
    "    weight = model.Quantity()\n",
    "    price = model.Quantity()\n",
    "    \n",
    "    def __init__(self, description, weight, price):\n",
    "        self.description = description\n",
    "        self.weight = weight\n",
    "        self.price = price\n",
    "        \n",
    "    def subtotal(self):\n",
    "        return self.weight * self.price"
   ]
  },
  {
   "cell_type": "code",
   "execution_count": null,
   "metadata": {},
   "outputs": [],
   "source": [
    "# 예제 21-15 model_v7.py: EntityMeta 메타클래스와 이 메타클래스의 객체인 Entity\n",
    "class EntityMeta(type):\n",
    "    \"\"\"검증된 필드를 가진 비즈니스 개체에 대한 메타클래스\"\"\"\n",
    "    \n",
    "    def __init__(cls, name, bases, attr_dict):\n",
    "        super().__init__(name, bases, attr_dict)\n",
    "        for key, attr in attr_dict.items():\n",
    "            if isinstance(attr, Validated):\n",
    "                type_name = type(attr).__name__\n",
    "                attr.storage_name = '_{}#{}'.format(type_name, key)\n",
    "                \n",
    "class Entity(metaclass=EntityMeta):\n",
    "    \"\"\"검증된 필드를 가진 비즈니스 체계\"\"\""
   ]
  },
  {
   "cell_type": "markdown",
   "metadata": {},
   "source": [
    "## 21.6 메타클래스 __prepare__() 특별 메서드"
   ]
  },
  {
   "cell_type": "code",
   "execution_count": null,
   "metadata": {},
   "outputs": [],
   "source": [
    "# 예제 21-16: model_v8.py: __prepare__()를 사용하는 EntityMeta 메타클래스\n",
    "class EntityMeta(type):\n",
    "    \"\"\"검증된 필드를 가진 비즈니스 개체에 대한 메타클래스\"\"\"\n",
    "    \n",
    "    @classmethod\n",
    "    def __prepare__(cls, name, bases):\n",
    "        return collections.OrderedDict()\n",
    "    \n",
    "    def __init__(cls, name, bases, attr_dict):\n",
    "        super().__init__(name, bases, attr_dict)\n",
    "        cls._field_names = []\n",
    "        for key, attr in attr_dict.items():\n",
    "            if isinstance(attr, Validated):\n",
    "                type_name = type(attr).__name__\n",
    "                attr.storage_name = '_{}#{}',format(type_name, key)\n",
    "                cls._field_names.append(key)\n",
    "                \n",
    "                \n",
    "class Entity(metaclass=EntityMeta):\n",
    "    \"\"\"검증된 필드를 가진 비즈니스 체계\"\"\"\n",
    "    \n",
    "    @classmethod\n",
    "    def field_names(cls):\n",
    "        for name in cls._field_names:\n",
    "            yield name"
   ]
  },
  {
   "cell_type": "markdown",
   "metadata": {},
   "source": [
    "## 21.7 객체로서의 클래스\n",
    "\n",
    "* cls._bases_: 슈퍼클래스들을 담은 튜플\n",
    "* cls._qualname_: 전역 범위에서 클래스 정의를 담은 모듈까지의 경로를 점으로 구분한, 클래스나 함수의 경로명을 담고 있는 파이썬3.3에 추가된 속성.\n",
    "* cls._subclasses_(): 이 메서드는 현재 메모리에 존재하는 클래스의 바로 아래 서브클래스들의 리스트를 반환한다.\n",
    "* cls.mro(): 인터프리터는 이 메서드를 클래스의 _mro_ 속성에 담겨 있는 슈퍼클래스의 튜플을 가져와서 클래스를 생성할 때 호출한다."
   ]
  },
  {
   "cell_type": "code",
   "execution_count": null,
   "metadata": {},
   "outputs": [],
   "source": []
  }
 ],
 "metadata": {
  "kernelspec": {
   "display_name": "Python 3",
   "language": "python",
   "name": "python3"
  },
  "language_info": {
   "codemirror_mode": {
    "name": "ipython",
    "version": 3
   },
   "file_extension": ".py",
   "mimetype": "text/x-python",
   "name": "python",
   "nbconvert_exporter": "python",
   "pygments_lexer": "ipython3",
   "version": "3.7.4"
  }
 },
 "nbformat": 4,
 "nbformat_minor": 2
}
