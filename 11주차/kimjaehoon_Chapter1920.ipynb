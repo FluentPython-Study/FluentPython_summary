{
 "cells": [
  {
   "cell_type": "code",
   "execution_count": null,
   "metadata": {},
   "outputs": [],
   "source": [
    "디스크럽터"
   ]
  },
  {
   "cell_type": "code",
   "execution_count": null,
   "metadata": {},
   "outputs": [],
   "source": [
    "class Mung(object):\n",
    "\n",
    "    def __init__(self):\n",
    "\n",
    "        self._mung = 1\n",
    " \n",
    "\n",
    "    def get_mung(self):\n",
    "\n",
    "        return self._mung\n",
    " \n",
    "\n",
    "    def set_mung(self, value):\n",
    "\n",
    "        self._mung = value\n",
    "\n",
    "\n",
    "mung = Mung()\n",
    "\n",
    "print(mung.get_mung())\n",
    "\n",
    "mung.set_mung(10)\n",
    "\n",
    "print(mung.get_mung())"
   ]
  },
  {
   "cell_type": "code",
   "execution_count": null,
   "metadata": {},
   "outputs": [],
   "source": [
    "class Mung(object):\n",
    "\n",
    "    \n",
    "\n",
    "    def __init__(self):\n",
    "\n",
    "        self._mung = 1\n",
    "\n",
    " \n",
    "\n",
    "        \n",
    "\n",
    "    @property\n",
    "\n",
    "    def mung(self):\n",
    "\n",
    "        return self._mung\n",
    "\n",
    " \n",
    "\n",
    " \n",
    "\n",
    "    @mung.setter\n",
    "\n",
    "    def mung(self, value):\n",
    "\n",
    "        self._mung = value\n",
    "\n",
    " \n",
    "\n",
    "mung = Mung()\n",
    "\n",
    "print(mung.mung)\n",
    "\n",
    "mung.mung=10\n",
    "\n",
    "print(mung.mung)"
   ]
  },
  {
   "cell_type": "code",
   "execution_count": null,
   "metadata": {},
   "outputs": [],
   "source": [
    "필자가 전에 한번 getter와 setter에 관련되서 글을 쓴 적이 있다.\n",
    "이때 getter와 setter함수를 구현하지 말고 @property를 이용해서 구현을 하라고 했다\n",
    "\n",
    "하지만 코드를 작성하다보면 @property가 복잡해지는 경우가 발생을 할 것이다. 이럴떄는 descriptor를 사용을 하여 코드를 좀더 깔끔하게 할 수 있다."
   ]
  },
  {
   "cell_type": "code",
   "execution_count": null,
   "metadata": {},
   "outputs": [],
   "source": [
    "class test:\n",
    "    @property\n",
    "    def t(self):\n",
    "        return self._t\n",
    "    @t.setter\n",
    "    def t(self, value):\n",
    "        print('setter 작동')\n",
    "        self._t = 10\n",
    "        \n",
    "a = test()\n",
    "a.t = 10\n"
   ]
  },
  {
   "cell_type": "code",
   "execution_count": null,
   "metadata": {},
   "outputs": [],
   "source": [
    "외부에서 t를 접근 할 때 정상적으로 t()가 실행 됬음을 확인 할 수 있습니다.\n",
    "\n",
    "그런데 이는 외부 뿐 아니라 내부에서 접근을 할 때에도 실행이 됩니다."
   ]
  },
  {
   "cell_type": "code",
   "execution_count": null,
   "metadata": {},
   "outputs": [],
   "source": [
    "class test:\n",
    " \n",
    "    def __init__(self):\n",
    "        self.t = 1\n",
    " \n",
    "    @property\n",
    "    def t(self):\n",
    "        return self._t\n",
    "    @t.setter\n",
    "    def t(self, value):\n",
    "        print('setter 작동')\n",
    "        self._t = 10\n",
    "a = test()\n",
    "a.t = 10"
   ]
  },
  {
   "cell_type": "code",
   "execution_count": null,
   "metadata": {},
   "outputs": [],
   "source": [
    "class test:\n",
    " \n",
    "    def __init__(self):\n",
    "        self.t = 1\n",
    " \n",
    "    @property\n",
    "    def t(self):\n",
    "        return self._t\n",
    "    @t.setter\n",
    "    def t(self, value):\n",
    "        print('setter 작동')\n",
    "        self._t = 10\n",
    "        \n",
    "    @property\n",
    "    def a(self):\n",
    "        return self._a\n",
    "    @a.setter\n",
    "    def a(self, value):\n",
    "        print('setter 작동')\n",
    "        self._a = 10\n",
    "        \n",
    "    @property\n",
    "    def b(self):\n",
    "        return self._b\n",
    "    @b.setter\n",
    "    def b(self, value):\n",
    "        print('setter 작동')\n",
    "        self._b = 10\n",
    "a = test()\n",
    "a.t = 10"
   ]
  }
 ],
 "metadata": {
  "kernelspec": {
   "display_name": "Python 3",
   "language": "python",
   "name": "python3"
  },
  "language_info": {
   "codemirror_mode": {
    "name": "ipython",
    "version": 3
   },
   "file_extension": ".py",
   "mimetype": "text/x-python",
   "name": "python",
   "nbconvert_exporter": "python",
   "pygments_lexer": "ipython3",
   "version": "3.8.5"
  }
 },
 "nbformat": 4,
 "nbformat_minor": 4
}
